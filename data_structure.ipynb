{
  "nbformat": 4,
  "nbformat_minor": 0,
  "metadata": {
    "colab": {
      "provenance": []
    },
    "kernelspec": {
      "name": "python3",
      "display_name": "Python 3"
    },
    "language_info": {
      "name": "python"
    }
  },
  "cells": [
    {
      "cell_type": "code",
      "execution_count": null,
      "metadata": {
        "id": "wlLe7vt_qeZj"
      },
      "outputs": [],
      "source": []
    },
    {
      "cell_type": "markdown",
      "source": [
        "THEORY\n",
        "\n",
        "1)What are data structures, and why are they important3\n",
        "- Data structures are organized ways to store, manage, and retrieve data efficiently. They define the layout and methods to operate on data, influencing how quickly and effectively tasks are performed.\n",
        "\n",
        "importance\n",
        "-Efficiency: They help optimize memory usage and processing speed.\n",
        "Organization: They provide a systematic way to organize and manage data.\n",
        "\n",
        "Functionality: Different structures support specific operations (e.g., fast searching with dictionaries, quick insertion/deletion with linked lists).\n",
        "\n",
        "Real-world Applications: They are used in databases, operating systems, web browsers, and many other software systems.\n",
        "\n",
        "2) Explain the difference between mutable and immutable data types with examplesP\n",
        "\n",
        "- Mutable Data Types:\n",
        "Definition: Mutable data types allow modification after creation. You can change, add, or remove elements without creating a new object.\n",
        "\n",
        "- Immutable Data Types:\n",
        "Definition: Immutable data types cannot be modified after creation. Any change creates a new object.\n",
        "Examples: int, float, str, tuple\n",
        "\n",
        "3) What are the main differences between lists and tuples in Python3\n",
        "\n",
        "-List: Mutable – You can change, add, or remove elements after creation.\n",
        "Tuple: Immutable – Once created, you cannot modify, add, or remove elements.\n",
        "\n",
        "4)Describe how dictionaries store dataP\n",
        "\n",
        "-dictionaries store data as key-value pairs using a highly efficient data structure called a hash table.\n",
        "\n",
        "5)Why might you use a set instead of a list in Python3\n",
        "\n",
        "-Use a set when:\n",
        "You need unique elements.\n",
        "Fast membership checking is required.\n",
        "You need to perform mathematical set operations.\n",
        "Order of elements is not important.\n",
        "\n",
        "Use a list when:\n",
        "You need ordered data.\n",
        "Index-based access or slicing is required.\n",
        "Duplicates are meaningful.\n",
        "\n",
        "6)What is a string in Python, and how is it different from a list3\n",
        "\n",
        "-Strings are immutable sequences of characters, suitable for text manipulation.\n",
        "\n",
        "Lists are mutable sequences that can store elements of any data type.\n",
        "\n",
        "Lists are more flexible for data manipulation, while strings are more efficient for fixed text data.\n",
        "\n",
        "\n",
        "7)How do tuples ensure data integrity in Python3\n",
        "\n",
        "-mutability is the core reason tuples ensure data integrity.\n",
        "\n",
        "They prevent accidental changes and maintain consistency throughout the program.\n",
        "\n",
        "They are hashable, allowing their use in contexts where data integrity and consistency are critical (e.g., keys in dictionaries).\n",
        "\n",
        "This makes tuples ideal for storing fixed, unchanging collections of related data.\n",
        "\n",
        "\n",
        "8)What is a hash table, and how does it relate to dictionaries in Python3\n",
        "\n",
        "- A hash table is a data structure that stores key-value pairs and uses a hash function to compute an index into an array of buckets, from which the desired value can be found. In Python, dictionaries are implemented using hash tables, making them very efficient for lookups, insertions, and deletions.\n",
        "\n",
        "9)Can lists contain different data types in Python3\n",
        "\n",
        "-yes, in Python, lists can contain different data types.\n",
        "\n",
        "10) Explain why strings are immutable in PythonP\n",
        "\n",
        "- Strings are immutable in Python for performance, security, hashability, and thread safety.\n",
        "Immutability allows Python to cache and reuse strings, making programs more efficient.\n",
        "It ensures data integrity and reduces the risk of unintended side effects.\n",
        "This design choice makes Python strings powerful and safe for text manipulation.\n",
        "\n",
        "11)What advantages do dictionaries offer over lists for certain tasks3\n",
        "\n",
        "-Dictionaries offer:\n",
        "\n",
        "O(1) time complexity for lookups, insertions, and deletions.\n",
        "Meaningful keys for better readability and maintainability.\n",
        "No need for sequential indexing, unlike lists.\n",
        "Uniqueness of keys for data integrity.\n",
        "Efficient dynamic modification without shifting elements.\n",
        "Lists are better when:\n",
        "\n",
        "You need ordered collections.\n",
        "You want to store sequences of items without key-value mapping.\n",
        "Index-based access is sufficient or required.\n",
        "\n",
        "12)Describe a scenario where using a tuple would be preferable over a listP\n",
        "\n",
        "-Using a tuple would be preferable over a list when you need to store a collection of related data that should remain constant and unchangeable throughout the program.\n",
        "\n",
        "13) How do sets handle duplicate values in Python3\n",
        "\n",
        "-Sets in Python automatically handle duplicate values by storing only unique elements.\n",
        "When a duplicate is added, it is ignored, keeping the set's uniqueness intact.\n",
        "Sets are ideal for scenarios where uniqueness is important and when performing set-based operations.\n",
        "\n",
        "14) How does the “in” keyword work differently for lists and dictionaries3\n",
        "\n",
        "-In lists, in checks for the existence of a value using a sequential search (O(n) complexity).\n",
        "In dictionaries, in checks for the existence of a key using a hash table (O(1) complexity).\n",
        "To check for a value in a dictionary, use .values().\n",
        "\n",
        "15)Can you modify the elements of a tuple? Explain why or why notP\n",
        "\n",
        "-No, you cannot modify the elements of a tuple in Python because tuples are immutable.\n",
        "\n",
        "16)What is a nested dictionary, and give an example of its use case3\n",
        "\n",
        "-A nested dictionary is a dictionary within another dictionary.\n",
        "\n",
        "It allows for hierarchical data storage.\n",
        "\n",
        "Ideal for representing complex data structures like:\n",
        "\n",
        "Hierarchical relationships (e.g., organizational charts)\n",
        "\n",
        "JSON-like records (e.g., API responses)\n",
        "\n",
        "Database-like entities (e.g., student records, employee data)\n",
        "\n",
        "Access or modify values using multiple keys.\n",
        "\n",
        "Provides a clear and organized way to manage complex data relationships.\n",
        "Nested dictionaries are powerful for storing and managing multidimensional data efficiently in Python.\n",
        "\n",
        "17)Describe the time complexity of accessing elements in a dictionary.\n",
        "\n",
        "-Accessing an element in a Python dictionary is O(1) on average due to the use of hash tables.\n",
        "\n",
        "Worst-case complexity is O(n), but this is rare due to efficient collision handling and dynamic resizing.\n",
        "\n",
        "Python's dictionary implementation is highly optimized, making it one of the fastest data structures for lookups, insertions, and deletions.\n",
        "\n",
        "Dictionaries are therefore a great choice for fast lookups and scenarios where constant-time access is crucial.\n",
        "\n",
        "18) In what situations are lists preferred over dictionaries3\n",
        "\n",
        "-Lists are ideal when you need an ordered, indexed, or homogeneous collection of values.\n",
        "\n",
        "They are more memory-efficient and simpler for sequential data.\n",
        "\n",
        "Use lists for simple collections, sequences, and when index-based operations are needed.\n",
        "\n",
        "In contrast, dictionaries are better for key-value pairs, fast lookups by key, and structured data.\n",
        "\n",
        "19)Why are dictionaries considered unordered, and how does that affect data retrieval3\n",
        "\n",
        "-Dictionaries were historically unordered because of hash table implementation.\n",
        "\n",
        "This led to unpredictable iteration order and no index-based access.\n",
        "\n",
        "Since Python 3.7, dictionaries preserve insertion order, making iteration predictable.\n",
        "\n",
        "However, they still do not support indexing like lists.\n",
        "Use dictionaries when you need:\n",
        "\n",
        "Key-value pairs with fast lookups.\n",
        "\n",
        "Ordered iteration (Python 3.7+).\n",
        "\n",
        "No need for index-based access.\n",
        "\n",
        "If you require ordered and indexable collections, consider using lists or OrderedDict (for older versions).\n",
        "\n",
        "20)Explain the difference between a list and a dictionary in terms of data retrieval.\n",
        "\n",
        "-Lists use integer indices for ordered data and support fast index-based access.\n",
        "\n",
        "Dictionaries use keys for unordered (insertion-ordered since Python 3.7) data and support fast key-based lookups.\n",
        "\n",
        "Choose lists for sequences or ordered collections.\n",
        "\n",
        "Choose dictionaries when you need a mapping from unique keys to values."
      ],
      "metadata": {
        "id": "J4gQKnIs5Wyr"
      }
    },
    {
      "cell_type": "markdown",
      "source": [
        "PRACTICALS"
      ],
      "metadata": {
        "id": "qthtNTdWqkfd"
      }
    },
    {
      "cell_type": "code",
      "source": [
        "#Write a code to create a string with your name and print it\n",
        "name = (\"suman verma\")\n",
        "print(type(name))\n",
        "print (\"my name is\", name)"
      ],
      "metadata": {
        "colab": {
          "base_uri": "https://localhost:8080/"
        },
        "id": "nPHyKW9Oqsq9",
        "outputId": "97d190b4-28a8-458b-a690-04dc493b0e25"
      },
      "execution_count": null,
      "outputs": [
        {
          "output_type": "stream",
          "name": "stdout",
          "text": [
            "<class 'str'>\n",
            "my name is suman verma\n"
          ]
        }
      ]
    },
    {
      "cell_type": "code",
      "source": [
        "#Write a code to find the length of the string \"Hello World\"P\n",
        "string= (\"hello world\")\n",
        "length=len(string)\n",
        "print(\"lenghth of string is\", length)"
      ],
      "metadata": {
        "colab": {
          "base_uri": "https://localhost:8080/"
        },
        "id": "EXU0b11NrLtd",
        "outputId": "5d49fe87-db32-4966-fce2-896e20ecae25"
      },
      "execution_count": null,
      "outputs": [
        {
          "output_type": "stream",
          "name": "stdout",
          "text": [
            "lenghth of string is 11\n"
          ]
        }
      ]
    },
    {
      "cell_type": "code",
      "source": [
        "#Write a code to slice the first 3 characters from the string \"Python Programming\"P\n",
        "str=(\"Python Programming\")\n",
        "print(str[0:3])"
      ],
      "metadata": {
        "colab": {
          "base_uri": "https://localhost:8080/"
        },
        "id": "fZu2WJ5zrinU",
        "outputId": "17de7c18-0fb2-4309-98e4-801ea6536865"
      },
      "execution_count": null,
      "outputs": [
        {
          "output_type": "stream",
          "name": "stdout",
          "text": [
            "Pyt\n"
          ]
        }
      ]
    },
    {
      "cell_type": "code",
      "source": [
        "#Write a code to convert the string \"hello\" to uppercase\n",
        "str=(\"hello\")\n",
        "print(str.upper())"
      ],
      "metadata": {
        "colab": {
          "base_uri": "https://localhost:8080/"
        },
        "id": "OJJU5H5ZsLw7",
        "outputId": "3f6679d3-0378-4849-fe9d-c755fcd2f69e"
      },
      "execution_count": null,
      "outputs": [
        {
          "output_type": "stream",
          "name": "stdout",
          "text": [
            "HELLO\n"
          ]
        }
      ]
    },
    {
      "cell_type": "code",
      "source": [
        "#Write a code to replace the word \"apple\" with \"orange\" in the string \"I like apple\"P\n",
        "str= \"i like apple\"\n",
        "print(str.replace(\"apple\", \"orange\"))"
      ],
      "metadata": {
        "colab": {
          "base_uri": "https://localhost:8080/"
        },
        "id": "dfqk5QlIvGdJ",
        "outputId": "fd10d297-cd27-4451-ec3f-82707d326268"
      },
      "execution_count": null,
      "outputs": [
        {
          "output_type": "stream",
          "name": "stdout",
          "text": [
            "i like orange\n"
          ]
        }
      ]
    },
    {
      "cell_type": "code",
      "source": [
        "#Write a code to create a list with numbers 1 to 5 and print itP\n",
        "numbers = [1, 2, 3, 4, 5]\n",
        "print(\"List of numbers:\", numbers)"
      ],
      "metadata": {
        "colab": {
          "base_uri": "https://localhost:8080/"
        },
        "id": "1gvFXrQ_wRqu",
        "outputId": "43e82ce2-2f68-44d0-8959-89b1da44102b"
      },
      "execution_count": null,
      "outputs": [
        {
          "output_type": "stream",
          "name": "stdout",
          "text": [
            "List of numbers: [1, 2, 3, 4, 5]\n"
          ]
        }
      ]
    },
    {
      "cell_type": "code",
      "source": [
        "#Write a code to append the number 10 to the list [1, 2, 3, 4]P\n",
        "number=[1,2,3,4]\n",
        "number.append(10)\n",
        "print(number)"
      ],
      "metadata": {
        "colab": {
          "base_uri": "https://localhost:8080/"
        },
        "id": "JuoBzEymxby9",
        "outputId": "8ce061e2-fe35-491a-d7bf-c821a67968e2"
      },
      "execution_count": null,
      "outputs": [
        {
          "output_type": "stream",
          "name": "stdout",
          "text": [
            "[1, 2, 3, 4, 10]\n"
          ]
        }
      ]
    },
    {
      "cell_type": "code",
      "source": [
        "#Write a code to remove the number 3 from the list [1, 2, 3, 4, 5]P\n",
        "number=[1,2,3,4,5]\n",
        "number.remove(3)\n",
        "print(number)"
      ],
      "metadata": {
        "colab": {
          "base_uri": "https://localhost:8080/"
        },
        "id": "ftPzLVdpxqfV",
        "outputId": "cf4a4bc0-5dff-4fee-c842-1af13ed6002b"
      },
      "execution_count": null,
      "outputs": [
        {
          "output_type": "stream",
          "name": "stdout",
          "text": [
            "[1, 2, 4, 5]\n"
          ]
        }
      ]
    },
    {
      "cell_type": "code",
      "source": [
        "#Write a code to access the second element in the list ['a', 'b', 'c', 'd']P\n",
        "list =['a', 'b', 'c', 'd']\n",
        "print(list[2])\n"
      ],
      "metadata": {
        "colab": {
          "base_uri": "https://localhost:8080/"
        },
        "id": "GFUm_S5NdBfG",
        "outputId": "fa557c20-bb9d-43ee-ddaa-98d680b6b012"
      },
      "execution_count": null,
      "outputs": [
        {
          "output_type": "stream",
          "name": "stdout",
          "text": [
            "c\n"
          ]
        }
      ]
    },
    {
      "cell_type": "code",
      "source": [
        "#Write a code to reverse the list [10, 20, 30, 40, 50].\n",
        "list =[10, 20, 30, 40, 50]\n",
        "list.reverse()\n",
        "print(list)\n"
      ],
      "metadata": {
        "colab": {
          "base_uri": "https://localhost:8080/"
        },
        "id": "VPYUVRI3dk4g",
        "outputId": "9ab910bf-8c2a-4e46-f4d4-c7165fb615fe"
      },
      "execution_count": null,
      "outputs": [
        {
          "output_type": "stream",
          "name": "stdout",
          "text": [
            "[50, 40, 30, 20, 10]\n"
          ]
        }
      ]
    },
    {
      "cell_type": "code",
      "source": [
        "# Write a code to create a tuple with the elements 100, 200, 300 and print it.\n",
        "num=(100, 200, 300)\n",
        "print(type(num))\n",
        "print(num)\n"
      ],
      "metadata": {
        "colab": {
          "base_uri": "https://localhost:8080/"
        },
        "id": "0R7azok6fDmd",
        "outputId": "0775bc93-cec6-44db-ef4b-496f0c650293"
      },
      "execution_count": null,
      "outputs": [
        {
          "output_type": "stream",
          "name": "stdout",
          "text": [
            "<class 'tuple'>\n",
            "(100, 200, 300)\n"
          ]
        }
      ]
    },
    {
      "cell_type": "code",
      "source": [
        "#Write a code to access the second-to-last element of the tuple ('red', 'green', 'blue', 'yellow').\n",
        "colour=('red', 'green', 'blue', 'yellow')\n",
        "print(type(colour))\n",
        "print(colour[-2])\n"
      ],
      "metadata": {
        "colab": {
          "base_uri": "https://localhost:8080/"
        },
        "id": "5wjPjb6dft76",
        "outputId": "cae5b3cc-2ed2-4346-ab95-c48c31836a07"
      },
      "execution_count": null,
      "outputs": [
        {
          "output_type": "stream",
          "name": "stdout",
          "text": [
            "<class 'tuple'>\n",
            "blue\n"
          ]
        }
      ]
    },
    {
      "cell_type": "code",
      "source": [
        "#Write a code to find the minimum number in the tuple (10, 20, 5, 15)\n",
        "num=(10,20,5,15)\n",
        "minimum=min(num)\n",
        "print(type(num))\n",
        "print(minimum)"
      ],
      "metadata": {
        "colab": {
          "base_uri": "https://localhost:8080/"
        },
        "id": "cAtW46r0gW9x",
        "outputId": "e39aa194-d2aa-4a76-f478-9d95ce38209f"
      },
      "execution_count": null,
      "outputs": [
        {
          "output_type": "stream",
          "name": "stdout",
          "text": [
            "<class 'tuple'>\n",
            "5\n"
          ]
        }
      ]
    },
    {
      "cell_type": "code",
      "source": [
        "#Write a code to find the index of the element \"cat\" in the tuple ('dog', 'cat', 'rabbit').\n",
        "animal=('dog', 'cat', 'rabbit')\n",
        "index=animal.index(\"cat\")\n",
        "print(index)"
      ],
      "metadata": {
        "colab": {
          "base_uri": "https://localhost:8080/"
        },
        "id": "JjzgAZKOhQkQ",
        "outputId": "d547cf81-0faa-4de5-d421-512e37fdf0d2"
      },
      "execution_count": null,
      "outputs": [
        {
          "output_type": "stream",
          "name": "stdout",
          "text": [
            "1\n"
          ]
        }
      ]
    },
    {
      "cell_type": "code",
      "source": [
        " #15 #Write a code to create a tuple containing three different fruits and check if \"kiwi\" is in it\n",
        " fruits = ('apple', 'banana', 'orange')\n",
        "if 'kiwi' in fruits:\n",
        "    print(\"Kiwi is in the tuple!\")\n",
        "else:\n",
        "    print(\"Kiwi is not in the tuple.\")"
      ],
      "metadata": {
        "colab": {
          "base_uri": "https://localhost:8080/"
        },
        "id": "b2cS28EJiNgv",
        "outputId": "083837c9-278b-4b70-ac49-48b12d64a441"
      },
      "execution_count": null,
      "outputs": [
        {
          "output_type": "stream",
          "name": "stdout",
          "text": [
            "Kiwi is not in the tuple.\n"
          ]
        }
      ]
    },
    {
      "cell_type": "code",
      "source": [
        "#Write a code to create a set with the elements 'a', 'b', 'c' and print it.\n",
        "collection ={\"a\",\"b\",\"c\"}\n",
        "print(collection)\n",
        "print(type(collection))"
      ],
      "metadata": {
        "id": "blDk9ZJHjNUW",
        "colab": {
          "base_uri": "https://localhost:8080/"
        },
        "outputId": "98a4e0f2-0971-4f7a-9783-a92d23adbd81"
      },
      "execution_count": null,
      "outputs": [
        {
          "output_type": "stream",
          "name": "stdout",
          "text": [
            "{'b', 'c', 'a'}\n",
            "<class 'set'>\n"
          ]
        }
      ]
    },
    {
      "cell_type": "code",
      "source": [
        "#Write a code to clear all elements from the set {1, 2, 3, 4, 5}.\n",
        "collection ={1,2,3,4,5}\n",
        "collection.clear()\n",
        "print(collection)"
      ],
      "metadata": {
        "id": "iMAQ-qyyixdk",
        "colab": {
          "base_uri": "https://localhost:8080/"
        },
        "outputId": "f7bbc543-0593-4855-c88b-dd281e4967a4"
      },
      "execution_count": null,
      "outputs": [
        {
          "output_type": "stream",
          "name": "stdout",
          "text": [
            "set()\n"
          ]
        }
      ]
    },
    {
      "cell_type": "code",
      "source": [
        "#Write a code to remove the element 4 from the set {1, 2, 3, 4}.\n",
        "collection ={1,2,3,4,5}\n",
        "collection.remove(4)\n",
        "print(collection)"
      ],
      "metadata": {
        "colab": {
          "base_uri": "https://localhost:8080/"
        },
        "id": "lwNsS15vZV0L",
        "outputId": "57c1e931-a923-463a-92ee-5ed2d4c119ad"
      },
      "execution_count": null,
      "outputs": [
        {
          "output_type": "stream",
          "name": "stdout",
          "text": [
            "{1, 2, 3, 5}\n"
          ]
        }
      ]
    },
    {
      "cell_type": "code",
      "source": [
        "#Write a code to find the union of two sets {1, 2, 3} and {3, 4, 5}.\n",
        "set1={1,2,3}\n",
        "set2={3,4,5}\n",
        "print(set1.union(set2))"
      ],
      "metadata": {
        "colab": {
          "base_uri": "https://localhost:8080/"
        },
        "id": "8k1aEQ2mZlET",
        "outputId": "f578e744-1f21-4f8b-e887-5e55e42a79fb"
      },
      "execution_count": null,
      "outputs": [
        {
          "output_type": "stream",
          "name": "stdout",
          "text": [
            "{1, 2, 3, 4, 5}\n"
          ]
        }
      ]
    },
    {
      "cell_type": "code",
      "source": [
        "#Write a code to find the intersection of two sets {1, 2, 3} and {2, 3, 4}.\n",
        "set1={1,2,3}\n",
        "set2={3,4,5}\n",
        "print(set1.intersection(set2))"
      ],
      "metadata": {
        "colab": {
          "base_uri": "https://localhost:8080/"
        },
        "id": "Y7Mah_FVZ286",
        "outputId": "e0c36b22-de8b-4fed-c189-71435de9dbbc"
      },
      "execution_count": null,
      "outputs": [
        {
          "output_type": "stream",
          "name": "stdout",
          "text": [
            "{3}\n"
          ]
        }
      ]
    },
    {
      "cell_type": "code",
      "source": [
        "\n",
        "#Write a code to create a dictionary with the keys \"name\", \"age\", and \"city\", and print it.\n",
        "dict = {\n",
        "    \"name\":\"suman\",\n",
        "    \"age\": 24,\n",
        "    \"city\" :\"hyderabad\"\n",
        "}\n",
        "print(dict)"
      ],
      "metadata": {
        "colab": {
          "base_uri": "https://localhost:8080/"
        },
        "id": "3QBy8GnVaE2Z",
        "outputId": "86b93eb9-b473-48e5-aab6-d682fcd5390b"
      },
      "execution_count": null,
      "outputs": [
        {
          "output_type": "stream",
          "name": "stdout",
          "text": [
            "{'name': 'suman', 'age': 24, 'city': 'hyderabad'}\n"
          ]
        }
      ]
    },
    {
      "cell_type": "code",
      "source": [
        "#Write a code to add a new key-value pair \"country\": \"USA\" to the dictionary {'name': 'John', 'age': 25}.\n",
        "dict={\n",
        "    \"name\": \"John\",\n",
        "    \"age\": \"25\",\n",
        "}\n",
        "dict[\"country\"]= \"USA\"\n",
        "print(dict)"
      ],
      "metadata": {
        "id": "QaWX1a8lanK5",
        "colab": {
          "base_uri": "https://localhost:8080/"
        },
        "outputId": "a32be5e7-7d6b-45eb-a19e-c37badac2ba9"
      },
      "execution_count": 1,
      "outputs": [
        {
          "output_type": "stream",
          "name": "stdout",
          "text": [
            "{'name': 'John', 'age': '25', 'country': 'USA'}\n"
          ]
        }
      ]
    },
    {
      "cell_type": "code",
      "source": [
        "#Write a code to access the value associated with the key \"name\" in the dictionary {'name': 'Alice', 'age': 30}.\n",
        "person = {'name': 'Alice', 'age': 30}\n",
        "name_value = person['name']\n",
        "print(name_value)"
      ],
      "metadata": {
        "colab": {
          "base_uri": "https://localhost:8080/"
        },
        "id": "lsMaCUvnWMTd",
        "outputId": "675278a7-9609-4824-f431-55c782f945cd"
      },
      "execution_count": 2,
      "outputs": [
        {
          "output_type": "stream",
          "name": "stdout",
          "text": [
            "Alice\n"
          ]
        }
      ]
    },
    {
      "cell_type": "code",
      "source": [
        "#Write a code to remove the key \"age\" from the dictionary {'name': 'Bob', 'age': 22, 'city': 'New York'}.\n",
        "info={\n",
        "    'name': 'Bob',\n",
        "    'age': 22,\n",
        "    'city': 'New York'\n",
        "}\n",
        "del info[\"age\"]\n",
        "print(info)\n"
      ],
      "metadata": {
        "colab": {
          "base_uri": "https://localhost:8080/"
        },
        "id": "eefgn8VdWlV0",
        "outputId": "b71e5d9b-eab3-43fc-864a-5c1b73020045"
      },
      "execution_count": 3,
      "outputs": [
        {
          "output_type": "stream",
          "name": "stdout",
          "text": [
            "{'name': 'Bob', 'city': 'New York'}\n"
          ]
        }
      ]
    },
    {
      "cell_type": "code",
      "source": [
        "#Write a code to check if the key \"city\" exists in the dictionary {'name': 'Alice', 'city': 'Paris'}.\n",
        "\n",
        "info={\n",
        "    'name': 'Alice',\n",
        "    'city': 'Paris'\n",
        "}\n",
        "if 'city' in info:\n",
        "    print(\"Key 'city' exists.\")\n",
        "else:\n",
        "    print(\"Key 'city' does not exist.\")\n",
        "print(info)"
      ],
      "metadata": {
        "colab": {
          "base_uri": "https://localhost:8080/"
        },
        "id": "DQuAPX70X_dU",
        "outputId": "aa3aac61-d71a-41b9-fd93-c27e318e8fa7"
      },
      "execution_count": 4,
      "outputs": [
        {
          "output_type": "stream",
          "name": "stdout",
          "text": [
            "Key 'city' exists.\n",
            "{'name': 'Alice', 'city': 'Paris'}\n"
          ]
        }
      ]
    },
    {
      "cell_type": "code",
      "source": [
        "#Write a code to create a list, a tuple, and a dictionary, and print them all.\n",
        "my_list = [1, 2, 3, 4, 5]\n",
        "\n",
        "my_tuple = ('apple', 'banana', 'cherry')\n",
        "\n",
        "my_dict = {'name': 'Alice', 'age': 30, 'city': 'Paris'}\n",
        "\n",
        "print(\"List:\", my_list)\n",
        "print(\"Tuple:\", my_tuple)\n",
        "print(\"Dictionary:\", my_dict)"
      ],
      "metadata": {
        "colab": {
          "base_uri": "https://localhost:8080/"
        },
        "id": "1KK7OAkMZVWA",
        "outputId": "fbd5aebe-1ff5-4350-ddef-d5c93cd0e764"
      },
      "execution_count": 5,
      "outputs": [
        {
          "output_type": "stream",
          "name": "stdout",
          "text": [
            "List: [1, 2, 3, 4, 5]\n",
            "Tuple: ('apple', 'banana', 'cherry')\n",
            "Dictionary: {'name': 'Alice', 'age': 30, 'city': 'Paris'}\n"
          ]
        }
      ]
    },
    {
      "cell_type": "code",
      "source": [
        "#Write a code to create a list of 5 random numbers between 1 and 100, sort it in ascending order, and print the\n",
        "#result.(replaced)\n",
        "\n",
        "list = [86,55,64,45,28]\n",
        "list.sort()\n",
        "print(list)"
      ],
      "metadata": {
        "colab": {
          "base_uri": "https://localhost:8080/"
        },
        "id": "5714whOXZqNY",
        "outputId": "ee3e1ef0-7f9f-4a4a-9ea7-47149c3f3a50"
      },
      "execution_count": 6,
      "outputs": [
        {
          "output_type": "stream",
          "name": "stdout",
          "text": [
            "[28, 45, 55, 64, 86]\n"
          ]
        }
      ]
    },
    {
      "cell_type": "code",
      "source": [
        "#Write a code to create a list with strings and print the element at the third index.\n",
        "fruits = ['apple', 'banana', 'cherry', 'date', 'elderberry']\n",
        "print(\"Element at third index:\", fruits[3])"
      ],
      "metadata": {
        "colab": {
          "base_uri": "https://localhost:8080/"
        },
        "id": "gV2j5vq436As",
        "outputId": "dbcc0cc0-af47-453c-e7f9-df677a03114c"
      },
      "execution_count": 1,
      "outputs": [
        {
          "output_type": "stream",
          "name": "stdout",
          "text": [
            "Element at third index: date\n"
          ]
        }
      ]
    },
    {
      "cell_type": "code",
      "source": [
        " #Write a code to combine two dictionaries into one and print the result.\n",
        " dict1 = {'name': 'Alice', 'age': 30}\n",
        "dict2 = {'city': 'Paris', 'country': 'France'}\n",
        "\n",
        "\n",
        "combined_dict = {**dict1, **dict2}\n",
        "\n",
        "\n",
        "print(\"Combined Dictionary:\", combined_dict)"
      ],
      "metadata": {
        "colab": {
          "base_uri": "https://localhost:8080/"
        },
        "id": "e4YK2TuE4yK4",
        "outputId": "74a83476-563d-4c10-9e34-afb80ce39279"
      },
      "execution_count": 2,
      "outputs": [
        {
          "output_type": "stream",
          "name": "stdout",
          "text": [
            "Combined Dictionary: {'name': 'Alice', 'age': 30, 'city': 'Paris', 'country': 'France'}\n"
          ]
        }
      ]
    },
    {
      "cell_type": "code",
      "source": [
        "#Write a code to convert a list of strings into a set.\n",
        "fruits = ['apple', 'banana', 'cherry', 'apple', 'banana']\n",
        "\n",
        "fruits_set = set(fruits)\n",
        "\n",
        "print(\"Set of Fruits:\", fruits_set)"
      ],
      "metadata": {
        "colab": {
          "base_uri": "https://localhost:8080/"
        },
        "id": "GDxax-bU5A8g",
        "outputId": "8d54cebf-8b37-403c-b9ce-f4ede72633e2"
      },
      "execution_count": 3,
      "outputs": [
        {
          "output_type": "stream",
          "name": "stdout",
          "text": [
            "Set of Fruits: {'apple', 'cherry', 'banana'}\n"
          ]
        }
      ]
    }
  ]
}